{
  "nbformat": 4,
  "nbformat_minor": 0,
  "metadata": {
    "colab": {
      "name": "L2_TAGGER_SCRIPT_and_Auto_Summarisation.ipynb",
      "provenance": [],
      "collapsed_sections": []
    },
    "kernelspec": {
      "name": "python3",
      "display_name": "Python 3"
    },
    "language_info": {
      "name": "python"
    }
  },
  "cells": [
    {
      "cell_type": "code",
      "metadata": {
        "colab": {
          "base_uri": "https://localhost:8080/"
        },
        "id": "y1VqDhdu3abb",
        "outputId": "9f691286-0c8a-4836-d20a-218e0b99599a"
      },
      "source": [
        "from google.colab import drive\n",
        "drive.mount('/content/drive')\n"
      ],
      "execution_count": 1,
      "outputs": [
        {
          "output_type": "stream",
          "text": [
            "Go to this URL in a browser: https://accounts.google.com/o/oauth2/auth?client_id=947318989803-6bn6qk8qdgf4n4g3pfee6491hc0brc4i.apps.googleusercontent.com&redirect_uri=urn%3aietf%3awg%3aoauth%3a2.0%3aoob&scope=email%20https%3a%2f%2fwww.googleapis.com%2fauth%2fdocs.test%20https%3a%2f%2fwww.googleapis.com%2fauth%2fdrive%20https%3a%2f%2fwww.googleapis.com%2fauth%2fdrive.photos.readonly%20https%3a%2f%2fwww.googleapis.com%2fauth%2fpeopleapi.readonly%20https%3a%2f%2fwww.googleapis.com%2fauth%2fdrive.activity.readonly%20https%3a%2f%2fwww.googleapis.com%2fauth%2fexperimentsandconfigs%20https%3a%2f%2fwww.googleapis.com%2fauth%2fphotos.native&response_type=code\n",
            "\n",
            "Enter your authorization code:\n",
            "4/1AX4XfWi-tk6oK1j_RmteSE0XmQ2p3OnL2e2mdGG9iVLDFll4tKYndO0jtPk\n",
            "Mounted at /content/drive\n"
          ],
          "name": "stdout"
        }
      ]
    },
    {
      "cell_type": "code",
      "metadata": {
        "colab": {
          "base_uri": "https://localhost:8080/"
        },
        "id": "dMndk_yZhIjr",
        "outputId": "2e3b0ec0-776b-4c11-8f9d-785b09842db5"
      },
      "source": [
        "%cd /content/drive/MyDrive/L2_TAGGER"
      ],
      "execution_count": 2,
      "outputs": [
        {
          "output_type": "stream",
          "text": [
            "/content/drive/MyDrive/L2_TAGGER\n"
          ],
          "name": "stdout"
        }
      ]
    },
    {
      "cell_type": "code",
      "metadata": {
        "colab": {
          "base_uri": "https://localhost:8080/",
          "height": 42
        },
        "id": "Yivtai47hTf9",
        "outputId": "bd85d4ab-8788-4687-8272-abea4f117e6a"
      },
      "source": [
        "%pwd\n"
      ],
      "execution_count": null,
      "outputs": [
        {
          "output_type": "execute_result",
          "data": {
            "application/vnd.google.colaboratory.intrinsic+json": {
              "type": "string"
            },
            "text/plain": [
              "'/content/drive/MyDrive/L2_TAGGER'"
            ]
          },
          "metadata": {
            "tags": []
          },
          "execution_count": 5
        }
      ]
    },
    {
      "cell_type": "code",
      "metadata": {
        "colab": {
          "base_uri": "https://localhost:8080/"
        },
        "id": "1I3izpBzhVXF",
        "outputId": "c5d176eb-ca94-46b1-8258-f1d391f3cc62"
      },
      "source": [
        "!git clone https://github.com/codelucas/newspaper.git\n"
      ],
      "execution_count": null,
      "outputs": [
        {
          "output_type": "stream",
          "text": [
            "Cloning into 'newspaper'...\n",
            "remote: Enumerating objects: 6947, done.\u001b[K\n",
            "remote: Total 6947 (delta 0), reused 0 (delta 0), pack-reused 6947\u001b[K\n",
            "Receiving objects: 100% (6947/6947), 17.88 MiB | 7.62 MiB/s, done.\n",
            "Resolving deltas: 100% (4100/4100), done.\n",
            "Checking out files: 100% (418/418), done.\n"
          ],
          "name": "stdout"
        }
      ]
    },
    {
      "cell_type": "code",
      "metadata": {
        "colab": {
          "base_uri": "https://localhost:8080/",
          "height": 42
        },
        "id": "cz85gXwmhbnt",
        "outputId": "675f13bc-10db-44ba-e88e-3d78d1f102c8"
      },
      "source": [
        "%pwd"
      ],
      "execution_count": null,
      "outputs": [
        {
          "output_type": "execute_result",
          "data": {
            "application/vnd.google.colaboratory.intrinsic+json": {
              "type": "string"
            },
            "text/plain": [
              "'/content/drive/My Drive/L2_TAGGER'"
            ]
          },
          "metadata": {
            "tags": []
          },
          "execution_count": 7
        }
      ]
    },
    {
      "cell_type": "code",
      "metadata": {
        "colab": {
          "base_uri": "https://localhost:8080/"
        },
        "id": "B7o6pX-RhtuV",
        "outputId": "12637092-3159-48f5-d9c1-c6d2f2c7d18e"
      },
      "source": [
        "!pip install -r /content/drive/MyDrive/L2_TAGGER/newspaper/requirements.txt"
      ],
      "execution_count": null,
      "outputs": [
        {
          "output_type": "stream",
          "text": [
            "Requirement already satisfied: beautifulsoup4>=4.4.1 in /usr/local/lib/python3.7/dist-packages (from -r /content/drive/MyDrive/L2_TAGGER/newspaper/requirements.txt (line 1)) (4.6.3)\n",
            "Collecting cssselect>=0.9.2\n",
            "  Downloading https://files.pythonhosted.org/packages/3b/d4/3b5c17f00cce85b9a1e6f91096e1cc8e8ede2e1be8e96b87ce1ed09e92c5/cssselect-1.1.0-py2.py3-none-any.whl\n",
            "Collecting feedfinder2>=0.0.4\n",
            "  Downloading https://files.pythonhosted.org/packages/35/82/1251fefec3bb4b03fd966c7e7f7a41c9fc2bb00d823a34c13f847fd61406/feedfinder2-0.0.4.tar.gz\n",
            "Collecting feedparser>=5.2.1\n",
            "\u001b[?25l  Downloading https://files.pythonhosted.org/packages/d8/b2/15bf6781a861bbc5dd801d467f26448fb322bfedcd30f2e62b148d104dfb/feedparser-6.0.8-py3-none-any.whl (81kB)\n",
            "\u001b[K     |████████████████████████████████| 81kB 5.8MB/s \n",
            "\u001b[?25hCollecting jieba3k>=0.35.1\n",
            "\u001b[?25l  Downloading https://files.pythonhosted.org/packages/a9/cb/2c8332bcdc14d33b0bedd18ae0a4981a069c3513e445120da3c3f23a8aaa/jieba3k-0.35.1.zip (7.4MB)\n",
            "\u001b[K     |████████████████████████████████| 7.4MB 21.6MB/s \n",
            "\u001b[?25hRequirement already satisfied: lxml>=3.6.0 in /usr/local/lib/python3.7/dist-packages (from -r /content/drive/MyDrive/L2_TAGGER/newspaper/requirements.txt (line 6)) (4.2.6)\n",
            "Requirement already satisfied: nltk>=3.2.1 in /usr/local/lib/python3.7/dist-packages (from -r /content/drive/MyDrive/L2_TAGGER/newspaper/requirements.txt (line 7)) (3.2.5)\n",
            "Requirement already satisfied: Pillow>=3.3.0 in /usr/local/lib/python3.7/dist-packages (from -r /content/drive/MyDrive/L2_TAGGER/newspaper/requirements.txt (line 8)) (7.1.2)\n",
            "Collecting pythainlp>=1.7.2\n",
            "\u001b[?25l  Downloading https://files.pythonhosted.org/packages/6e/e7/837dd9ab52fac889af830dc094a1598251f70004a2f1707ab0ff8dc0f63a/pythainlp-2.3.1-py3-none-any.whl (11.0MB)\n",
            "\u001b[K     |████████████████████████████████| 11.0MB 39.6MB/s \n",
            "\u001b[?25hRequirement already satisfied: python-dateutil>=2.5.3 in /usr/local/lib/python3.7/dist-packages (from -r /content/drive/MyDrive/L2_TAGGER/newspaper/requirements.txt (line 10)) (2.8.1)\n",
            "Requirement already satisfied: PyYAML>=3.11 in /usr/local/lib/python3.7/dist-packages (from -r /content/drive/MyDrive/L2_TAGGER/newspaper/requirements.txt (line 11)) (3.13)\n",
            "Requirement already satisfied: requests>=2.10.0 in /usr/local/lib/python3.7/dist-packages (from -r /content/drive/MyDrive/L2_TAGGER/newspaper/requirements.txt (line 12)) (2.23.0)\n",
            "Collecting tinysegmenter==0.3\n",
            "  Downloading https://files.pythonhosted.org/packages/17/82/86982e4b6d16e4febc79c2a1d68ee3b707e8a020c5d2bc4af8052d0f136a/tinysegmenter-0.3.tar.gz\n",
            "Collecting tldextract>=2.0.1\n",
            "\u001b[?25l  Downloading https://files.pythonhosted.org/packages/7e/62/b6acd3129c5615b9860e670df07fd55b76175b63e6b7f68282c7cad38e9e/tldextract-3.1.0-py2.py3-none-any.whl (87kB)\n",
            "\u001b[K     |████████████████████████████████| 92kB 8.8MB/s \n",
            "\u001b[?25hRequirement already satisfied: six in /usr/local/lib/python3.7/dist-packages (from feedfinder2>=0.0.4->-r /content/drive/MyDrive/L2_TAGGER/newspaper/requirements.txt (line 3)) (1.15.0)\n",
            "Collecting sgmllib3k\n",
            "  Downloading https://files.pythonhosted.org/packages/9e/bd/3704a8c3e0942d711c1299ebf7b9091930adae6675d7c8f476a7ce48653c/sgmllib3k-1.0.0.tar.gz\n",
            "Collecting python-crfsuite>=0.9.6\n",
            "\u001b[?25l  Downloading https://files.pythonhosted.org/packages/79/47/58f16c46506139f17de4630dbcfb877ce41a6355a1bbf3c443edb9708429/python_crfsuite-0.9.7-cp37-cp37m-manylinux1_x86_64.whl (743kB)\n",
            "\u001b[K     |████████████████████████████████| 747kB 21.6MB/s \n",
            "\u001b[?25hCollecting tinydb>=3.0\n",
            "  Downloading https://files.pythonhosted.org/packages/ef/b7/3efc36f9720fd94e2ce398691d1df33486a7aceb5048563bd77c2ad5d584/tinydb-4.5.0-py3-none-any.whl\n",
            "Requirement already satisfied: chardet<4,>=3.0.2 in /usr/local/lib/python3.7/dist-packages (from requests>=2.10.0->-r /content/drive/MyDrive/L2_TAGGER/newspaper/requirements.txt (line 12)) (3.0.4)\n",
            "Requirement already satisfied: idna<3,>=2.5 in /usr/local/lib/python3.7/dist-packages (from requests>=2.10.0->-r /content/drive/MyDrive/L2_TAGGER/newspaper/requirements.txt (line 12)) (2.10)\n",
            "Requirement already satisfied: certifi>=2017.4.17 in /usr/local/lib/python3.7/dist-packages (from requests>=2.10.0->-r /content/drive/MyDrive/L2_TAGGER/newspaper/requirements.txt (line 12)) (2021.5.30)\n",
            "Requirement already satisfied: urllib3!=1.25.0,!=1.25.1,<1.26,>=1.21.1 in /usr/local/lib/python3.7/dist-packages (from requests>=2.10.0->-r /content/drive/MyDrive/L2_TAGGER/newspaper/requirements.txt (line 12)) (1.24.3)\n",
            "Requirement already satisfied: filelock>=3.0.8 in /usr/local/lib/python3.7/dist-packages (from tldextract>=2.0.1->-r /content/drive/MyDrive/L2_TAGGER/newspaper/requirements.txt (line 14)) (3.0.12)\n",
            "Collecting requests-file>=1.4\n",
            "  Downloading https://files.pythonhosted.org/packages/77/86/cdb5e8eaed90796aa83a6d9f75cfbd37af553c47a291cd47bc410ef9bdb2/requests_file-1.5.1-py2.py3-none-any.whl\n",
            "Building wheels for collected packages: feedfinder2, jieba3k, tinysegmenter, sgmllib3k\n",
            "  Building wheel for feedfinder2 (setup.py) ... \u001b[?25l\u001b[?25hdone\n",
            "  Created wheel for feedfinder2: filename=feedfinder2-0.0.4-cp37-none-any.whl size=3358 sha256=22c75d77ebff9b0425fd619f5aea0cf457903e8253cbf5e6304330fb3be465df\n",
            "  Stored in directory: /root/.cache/pip/wheels/de/03/ca/778e3a7a627e3d98836cc890e7cb40c7575424cfd3340f40ed\n",
            "  Building wheel for jieba3k (setup.py) ... \u001b[?25l\u001b[?25hdone\n",
            "  Created wheel for jieba3k: filename=jieba3k-0.35.1-cp37-none-any.whl size=7398404 sha256=246467acb5dcfa5b5cf5869ca5239549e75ad3e20027d1c6a3afe97d4036bbfe\n",
            "  Stored in directory: /root/.cache/pip/wheels/83/15/9c/a3f1f67e7f7181170ad37d32e503c35da20627c013f438ed34\n",
            "  Building wheel for tinysegmenter (setup.py) ... \u001b[?25l\u001b[?25hdone\n",
            "  Created wheel for tinysegmenter: filename=tinysegmenter-0.3-cp37-none-any.whl size=13553 sha256=096a383b6479eb01e6849af18442305680f270687e8a6bc291941565d5c4fdf9\n",
            "  Stored in directory: /root/.cache/pip/wheels/81/2b/43/a02ede72324dd40cdd7ca53aad718c7710628e91b8b0dc0f02\n",
            "  Building wheel for sgmllib3k (setup.py) ... \u001b[?25l\u001b[?25hdone\n",
            "  Created wheel for sgmllib3k: filename=sgmllib3k-1.0.0-cp37-none-any.whl size=6067 sha256=19c83c0e6ba22e213ef881c2f2cf6153e7572a03fe056495f218f9d218fe6598\n",
            "  Stored in directory: /root/.cache/pip/wheels/f1/80/5a/444ba08a550cdd241bd9baf8bae44be750efe370adb944506a\n",
            "Successfully built feedfinder2 jieba3k tinysegmenter sgmllib3k\n",
            "Installing collected packages: cssselect, feedfinder2, sgmllib3k, feedparser, jieba3k, python-crfsuite, tinydb, pythainlp, tinysegmenter, requests-file, tldextract\n",
            "Successfully installed cssselect-1.1.0 feedfinder2-0.0.4 feedparser-6.0.8 jieba3k-0.35.1 pythainlp-2.3.1 python-crfsuite-0.9.7 requests-file-1.5.1 sgmllib3k-1.0.0 tinydb-4.5.0 tinysegmenter-0.3 tldextract-3.1.0\n"
          ],
          "name": "stdout"
        }
      ]
    },
    {
      "cell_type": "code",
      "metadata": {
        "colab": {
          "base_uri": "https://localhost:8080/"
        },
        "id": "E_KCPcH3j6_h",
        "outputId": "fbd853a9-45ec-445f-fc16-37f510890e8d"
      },
      "source": [
        "import nltk\n",
        "nltk.download('punkt')"
      ],
      "execution_count": null,
      "outputs": [
        {
          "output_type": "stream",
          "text": [
            "[nltk_data] Downloading package punkt to /root/nltk_data...\n",
            "[nltk_data]   Unzipping tokenizers/punkt.zip.\n"
          ],
          "name": "stdout"
        },
        {
          "output_type": "execute_result",
          "data": {
            "text/plain": [
              "True"
            ]
          },
          "metadata": {
            "tags": []
          },
          "execution_count": 33
        }
      ]
    },
    {
      "cell_type": "code",
      "metadata": {
        "id": "hiP9IEY0kgor"
      },
      "source": [
        "import newspaper"
      ],
      "execution_count": null,
      "outputs": []
    },
    {
      "cell_type": "code",
      "metadata": {
        "id": "TRGZ5180qFmY"
      },
      "source": [
        "import pandas as pd\n",
        "\n",
        "data = pd.read_csv(\"/content/articles_text.csv\")\n",
        "\n",
        "\n",
        "data.columns\n",
        "\n",
        "\n",
        "data_subset = data[[\"Resource URL\", \"text\"]]"
      ],
      "execution_count": null,
      "outputs": []
    },
    {
      "cell_type": "code",
      "metadata": {
        "id": "FcRLtvU0rezf"
      },
      "source": [
        "print(data_subset)\n",
        "\n",
        "\n",
        "\n",
        "data_subset = data_subset.dropna()\n",
        "\n",
        "\n",
        "print(data_subset)\n",
        "\n",
        "\n",
        "list_of_items = []\n",
        "\n",
        "\n",
        "\n",
        "def create_data(url):\n",
        "    url = url\n",
        "    print(url)\n",
        "    article = newspaper.newspaper.Article(url)\n",
        "    article.download()\n",
        "    article.html\n",
        "    article.parse()\n",
        "    text = article.text\n",
        "    article.nlp()\n",
        "    keywords = article.keywords\n",
        "    summary = article.summary \n",
        "    return text, keywords, summary\n",
        "\n",
        "\n",
        "text_l = []\n",
        "keywords_l= []\n",
        "summary_l = []\n",
        "urls = []\n",
        "for i in range(len(data_subset)):\n",
        "  try:\n",
        "    url = data_subset[\"Resource URL\"][i]\n",
        "    text, keyword, summary = create_data(url)\n",
        "    text_l.append(text)\n",
        "    keywords_l.append(keyword)\n",
        "    summary_l.append(summary)\n",
        "    urls.append(url)\n",
        "  except KeyError:\n",
        "    continue"
      ],
      "execution_count": null,
      "outputs": []
    },
    {
      "cell_type": "code",
      "metadata": {
        "colab": {
          "base_uri": "https://localhost:8080/"
        },
        "id": "9OrTPBkoASWT",
        "outputId": "699c409b-29fe-46b9-f7d6-983dd5a22466"
      },
      "source": [
        "print(len(text_l))\n",
        "print(len(urls))\n",
        "print(len(keywords_l))\n",
        "print(len(summary_l))"
      ],
      "execution_count": null,
      "outputs": [
        {
          "output_type": "stream",
          "text": [
            "752\n",
            "752\n",
            "752\n",
            "752\n"
          ],
          "name": "stdout"
        }
      ]
    },
    {
      "cell_type": "code",
      "metadata": {
        "id": "ySYTl8yv_lmD"
      },
      "source": [
        "#creating a datafrane:\n",
        "\n",
        "article_data = pd.DataFrame()\n",
        "\n",
        "article_data[\"URL\"] = urls\n",
        "article_data[\"text\"] = text_l\n",
        "article_data[\"keywords\"] = keywords_l\n",
        "article_data[\"summary\"] = summary_l"
      ],
      "execution_count": null,
      "outputs": []
    },
    {
      "cell_type": "code",
      "metadata": {
        "colab": {
          "base_uri": "https://localhost:8080/"
        },
        "id": "TS-f7naSAfCf",
        "outputId": "497456a8-1fdc-4c22-ac7b-4c4c15a2bf9a"
      },
      "source": [
        "print(article_data.columns)"
      ],
      "execution_count": null,
      "outputs": [
        {
          "output_type": "stream",
          "text": [
            "Index(['URL', 'text', 'keywords', 'summary'], dtype='object')\n"
          ],
          "name": "stdout"
        }
      ]
    },
    {
      "cell_type": "code",
      "metadata": {
        "colab": {
          "base_uri": "https://localhost:8080/"
        },
        "id": "hZt0hguT6dKn",
        "outputId": "e680c052-619d-40a7-9c18-1a529e2a98ca"
      },
      "source": [
        "import nltk\n",
        "from nltk.tokenize import word_tokenize\n",
        "from nltk.tag import pos_tag\n",
        "from nltk.chunk import ne_chunk\n",
        "import spacy\n",
        "from spacy import displacy\n",
        "from collections import Counter\n",
        "import en_core_web_sm\n",
        "from bs4 import BeautifulSoup\n",
        "import requests\n",
        "import re\n",
        "\n",
        "\n",
        "import numpy as np\n",
        "import pandas as pd\n",
        "from IPython.display import display\n",
        "from tqdm import tqdm\n",
        "from collections import Counter\n",
        "import ast\n",
        "\n",
        "import matplotlib.pyplot as plt\n",
        "import matplotlib.mlab as mlab\n",
        "import seaborn as sb\n",
        "\n",
        "from sklearn.feature_extraction.text import CountVectorizer\n",
        "from textblob import TextBlob\n",
        "import scipy.stats as stats\n",
        "\n",
        "from sklearn.decomposition import TruncatedSVD\n",
        "from sklearn.decomposition import LatentDirichletAllocation\n",
        "from sklearn.manifold import TSNE\n",
        "\n",
        "from bokeh.plotting import figure, output_file, show\n",
        "from bokeh.models import Label\n",
        "from bokeh.io import output_notebook\n",
        "output_notebook()\n",
        "\n",
        "%matplotlib inline\n",
        "\n",
        "\n",
        "\n",
        "import gensim\n",
        "from gensim.utils import simple_preprocess\n",
        "from gensim.parsing.preprocessing import STOPWORDS\n",
        "from nltk.stem import WordNetLemmatizer, SnowballStemmer\n",
        "from nltk.stem import PorterStemmer\n",
        "import numpy as np\n",
        "np.random.seed(2018)\n",
        "import nltk\n",
        "nltk.download('wordnet')\n",
        "\n",
        "\n",
        "ps = PorterStemmer()"
      ],
      "execution_count": null,
      "outputs": [
        {
          "output_type": "stream",
          "text": [
            "[nltk_data] Downloading package wordnet to /root/nltk_data...\n",
            "[nltk_data]   Unzipping corpora/wordnet.zip.\n"
          ],
          "name": "stdout"
        }
      ]
    },
    {
      "cell_type": "code",
      "metadata": {
        "id": "Y1GnUxhjBSGC"
      },
      "source": [
        "def preprocess(text):\n",
        "    result = []\n",
        "    for token in gensim.utils.simple_preprocess(text):\n",
        "        if token not in gensim.parsing.preprocessing.STOPWORDS and token not in ['pubmed','crossref', 'health', 'facebook', 'twitter', 'instagram', 'linkedin', 'youtube', 'account', 'password', 'login', 'scopus','weeks','articles', 'view' , 'text', 'received', 'evidence', 'showed', 'scholar', 'google' 'summary', 'journal','changes', 'nature','https', 'lancet','site', 'intended','logo', 'skip', 'main', 'cells'] and len(token) > 3:\n",
        "            result.append((token))\n",
        "    return result"
      ],
      "execution_count": null,
      "outputs": []
    },
    {
      "cell_type": "code",
      "metadata": {
        "colab": {
          "base_uri": "https://localhost:8080/"
        },
        "id": "buXUFKoO8Lvo",
        "outputId": "99f6b1c4-7b30-443b-e8ce-1213e37890ad"
      },
      "source": [
        "\n",
        "tokenized_and_lemmatized_document = []\n",
        "\n",
        "\n",
        "for i in range(len(article_data)):\n",
        "  tokenized_and_lemmatized_document.append(preprocess(article_data[\"text\"][i]))\n",
        "\n",
        "\n",
        "\n",
        "print(len(tokenized_and_lemmatized_document))\n",
        "\n",
        "\n",
        "article_data[\"cleaned_document\"] = tokenized_and_lemmatized_document\n",
        "\n",
        "\n",
        "import numpy as np\n",
        "import pandas as pd\n",
        "from IPython.display import display\n",
        "from tqdm import tqdm\n",
        "from collections import Counter\n",
        "import ast\n",
        "\n",
        "import matplotlib.pyplot as plt\n",
        "import matplotlib.mlab as mlab\n",
        "import seaborn as sb\n",
        "\n",
        "from sklearn.feature_extraction.text import CountVectorizer\n",
        "from textblob import TextBlob\n",
        "import scipy.stats as stats\n",
        "\n",
        "from sklearn.decomposition import TruncatedSVD\n",
        "from sklearn.decomposition import LatentDirichletAllocation\n",
        "from sklearn.manifold import TSNE\n",
        "\n",
        "from bokeh.plotting import figure, output_file, show\n",
        "from bokeh.models import Label\n",
        "from bokeh.io import output_notebook\n",
        "output_notebook()\n",
        "\n",
        "\n",
        "\n",
        "processed_docs = pd.DataFrame()\n",
        "processed_docs = article_data['cleaned_document']\n",
        "text_df = pd.DataFrame()\n",
        "\n",
        "for i in range(len(processed_docs)):\n",
        "  text_var = globals()[f\"text{i}\"]\n",
        "  text_var = pd.DataFrame(processed_docs[i])\n",
        "  text_var.to_csv(\"/content/drive/MyDrive/L2_TAGGER/cleaned_docs/\" + \"doc\" + str(i) + \".csv\")\n",
        "\n",
        "\n",
        "\n",
        "\n",
        "print()\n",
        "\n"
      ],
      "execution_count": null,
      "outputs": [
        {
          "output_type": "stream",
          "text": [
            "752\n"
          ],
          "name": "stdout"
        }
      ]
    },
    {
      "cell_type": "code",
      "metadata": {
        "colab": {
          "base_uri": "https://localhost:8080/",
          "height": 42
        },
        "id": "dTCJBrqNK9_g",
        "outputId": "f6495d58-6edd-4743-b22d-dfcf6d9b71cc"
      },
      "source": [
        "%pwd"
      ],
      "execution_count": null,
      "outputs": [
        {
          "output_type": "execute_result",
          "data": {
            "application/vnd.google.colaboratory.intrinsic+json": {
              "type": "string"
            },
            "text/plain": [
              "'/content/drive/MyDrive/L2_TAGGER/newspaper/newspaper'"
            ]
          },
          "metadata": {
            "tags": []
          },
          "execution_count": 174
        }
      ]
    },
    {
      "cell_type": "code",
      "metadata": {
        "id": "GKk_I3YWEUW8"
      },
      "source": [
        "article_data.to_csv(\"article_data.csv\", index = False)"
      ],
      "execution_count": null,
      "outputs": []
    },
    {
      "cell_type": "code",
      "metadata": {
        "colab": {
          "base_uri": "https://localhost:8080/",
          "height": 996
        },
        "id": "9gfnMVPBKpyE",
        "outputId": "fa173f60-1051-4275-ac37-14bc3c5ce89e"
      },
      "source": [
        "article_data"
      ],
      "execution_count": null,
      "outputs": [
        {
          "output_type": "execute_result",
          "data": {
            "text/html": [
              "<div>\n",
              "<style scoped>\n",
              "    .dataframe tbody tr th:only-of-type {\n",
              "        vertical-align: middle;\n",
              "    }\n",
              "\n",
              "    .dataframe tbody tr th {\n",
              "        vertical-align: top;\n",
              "    }\n",
              "\n",
              "    .dataframe thead th {\n",
              "        text-align: right;\n",
              "    }\n",
              "</style>\n",
              "<table border=\"1\" class=\"dataframe\">\n",
              "  <thead>\n",
              "    <tr style=\"text-align: right;\">\n",
              "      <th></th>\n",
              "      <th>URL</th>\n",
              "      <th>text</th>\n",
              "      <th>keywords</th>\n",
              "      <th>summary</th>\n",
              "      <th>cleaned_document</th>\n",
              "    </tr>\n",
              "  </thead>\n",
              "  <tbody>\n",
              "    <tr>\n",
              "      <th>0</th>\n",
              "      <td>https://www.thelancet.com/coronavirus</td>\n",
              "      <td>Review\\n\\nThe Lancet HIV Vol. 8 Published: May...</td>\n",
              "      <td>[million, untreated, treatment, worldwide, inf...</td>\n",
              "      <td>ReviewThe Lancet HIV Vol.\\n8 Published: May, 2...</td>\n",
              "      <td>[review, published, million, deaths, million, ...</td>\n",
              "    </tr>\n",
              "    <tr>\n",
              "      <th>1</th>\n",
              "      <td>https://www.nejm.org/doi/full/10.1056/NEJMoa21...</td>\n",
              "      <td>Trial Design and Participants\\n\\nFrom August 1...</td>\n",
              "      <td>[b1351, variant, performed, trial, vaccine, sa...</td>\n",
              "      <td>The trial was designed to provide a preliminar...</td>\n",
              "      <td>[trial, design, participants, august, november...</td>\n",
              "    </tr>\n",
              "    <tr>\n",
              "      <th>2</th>\n",
              "      <td>https://www.nejm.org/doi/10.1056/NEJMc2104974</td>\n",
              "      <td>To The Editor:\\n\\nThe messenger RNA vaccine BN...</td>\n",
              "      <td>[b1351, b117, persons, variant, variants, bnt1...</td>\n",
              "      <td>As of March 31, 2021, a total of 385,853 perso...</td>\n",
              "      <td>[editor, messenger, vaccine, pfizer, biontech,...</td>\n",
              "    </tr>\n",
              "    <tr>\n",
              "      <th>3</th>\n",
              "      <td>https://jamanetwork.com/journals/jama/pages/co...</td>\n",
              "      <td>With the global coronavirus pandemic in its se...</td>\n",
              "      <td>[variants, vaccinate, coronavirus, center, sec...</td>\n",
              "      <td>With the global coronavirus pandemic in its se...</td>\n",
              "      <td>[global, coronavirus, pandemic, second, year, ...</td>\n",
              "    </tr>\n",
              "    <tr>\n",
              "      <th>4</th>\n",
              "      <td>https://www.nejm.org/</td>\n",
              "      <td>In this randomized trial involving fetuses wit...</td>\n",
              "      <td>[preterm, trial, weeks, video, surgical, clini...</td>\n",
              "      <td>In this randomized trial involving fetuses wit...</td>\n",
              "      <td>[randomized, trial, involving, fetuses, modera...</td>\n",
              "    </tr>\n",
              "    <tr>\n",
              "      <th>...</th>\n",
              "      <td>...</td>\n",
              "      <td>...</td>\n",
              "      <td>...</td>\n",
              "      <td>...</td>\n",
              "      <td>...</td>\n",
              "    </tr>\n",
              "    <tr>\n",
              "      <th>747</th>\n",
              "      <td>https://stacks.cdc.gov/view/cdc/106807</td>\n",
              "      <td>Description:\\n\\nUpdated June 3, 2021 All clini...</td>\n",
              "      <td>[interim, specimens, suspected, handling, coro...</td>\n",
              "      <td>Description:Updated June 3, 2021 All clinical ...</td>\n",
              "      <td>[description, updated, june, clinical, specime...</td>\n",
              "    </tr>\n",
              "    <tr>\n",
              "      <th>748</th>\n",
              "      <td>https://stacks.cdc.gov/view/cdc/106799</td>\n",
              "      <td>Description:\\n\\nEstimates of excess deaths can...</td>\n",
              "      <td>[provisional, used, expected, coronavirus, jur...</td>\n",
              "      <td>Description:Estimates of excess deaths can pro...</td>\n",
              "      <td>[description, estimates, excess, deaths, provi...</td>\n",
              "    </tr>\n",
              "    <tr>\n",
              "      <th>749</th>\n",
              "      <td>https://stacks.cdc.gov/view/cdc/106802</td>\n",
              "      <td>Description:\\n\\nUpdated June 2, 2021 Note: Pro...</td>\n",
              "      <td>[provisional, national, updates, disease, rece...</td>\n",
              "      <td>Description:Updated June 2, 2021 Note: Provisi...</td>\n",
              "      <td>[description, updated, june, note, provisional...</td>\n",
              "    </tr>\n",
              "    <tr>\n",
              "      <th>750</th>\n",
              "      <td>https://korean.cdc.gov/coronavirus/2019-ncov/v...</td>\n",
              "      <td>2021년 7월 6일 현재, 13만 명이 넘는 v-safe 참가자가 COVID-19...</td>\n",
              "      <td>[임신부, 통해, 등록, 임신, vsafe, 있습니다, 백신, 수, 접종, 중, c...</td>\n",
              "      <td>1) COVID-19 백신 접종 시작과 v-safe 임신부 등록 시작 사이에 시간적...</td>\n",
              "      <td>[safe, 참가자가, covid, 중이었다고, 표시했습니다, cdc는, covid...</td>\n",
              "    </tr>\n",
              "    <tr>\n",
              "      <th>751</th>\n",
              "      <td>https://chinese.cdc.gov/coronavirus/2019-ncov/...</td>\n",
              "      <td>警示标志 如果您想参与v-safe，必须在接种第一针COVID-19疫苗后的42天内注册。\\...</td>\n",
              "      <td>[icon该报告系统是由cdc和美国食品药品监督管理局fdaexternal, 如果您想参与...</td>\n",
              "      <td>警示标志 如果您想参与v-safe，必须在接种第一针COVID-19疫苗后的42天内注册。我...</td>\n",
              "      <td>[警示标志, 如果您想参与v, safe, 必须在接种第一针covid, 疫苗后的, 天内注...</td>\n",
              "    </tr>\n",
              "  </tbody>\n",
              "</table>\n",
              "<p>752 rows × 5 columns</p>\n",
              "</div>"
            ],
            "text/plain": [
              "                                                   URL  ...                                   cleaned_document\n",
              "0                https://www.thelancet.com/coronavirus  ...  [review, published, million, deaths, million, ...\n",
              "1    https://www.nejm.org/doi/full/10.1056/NEJMoa21...  ...  [trial, design, participants, august, november...\n",
              "2        https://www.nejm.org/doi/10.1056/NEJMc2104974  ...  [editor, messenger, vaccine, pfizer, biontech,...\n",
              "3    https://jamanetwork.com/journals/jama/pages/co...  ...  [global, coronavirus, pandemic, second, year, ...\n",
              "4                                https://www.nejm.org/  ...  [randomized, trial, involving, fetuses, modera...\n",
              "..                                                 ...  ...                                                ...\n",
              "747             https://stacks.cdc.gov/view/cdc/106807  ...  [description, updated, june, clinical, specime...\n",
              "748             https://stacks.cdc.gov/view/cdc/106799  ...  [description, estimates, excess, deaths, provi...\n",
              "749             https://stacks.cdc.gov/view/cdc/106802  ...  [description, updated, june, note, provisional...\n",
              "750  https://korean.cdc.gov/coronavirus/2019-ncov/v...  ...  [safe, 참가자가, covid, 중이었다고, 표시했습니다, cdc는, covid...\n",
              "751  https://chinese.cdc.gov/coronavirus/2019-ncov/...  ...  [警示标志, 如果您想参与v, safe, 必须在接种第一针covid, 疫苗后的, 天内注...\n",
              "\n",
              "[752 rows x 5 columns]"
            ]
          },
          "metadata": {
            "tags": []
          },
          "execution_count": 173
        }
      ]
    }
  ]
}